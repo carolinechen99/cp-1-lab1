{
  "nbformat": 4,
  "nbformat_minor": 0,
  "metadata": {
    "colab": {
      "provenance": [],
      "authorship_tag": "ABX9TyPCXP0KqrONjLs4sKzoAd1/",
      "include_colab_link": true
    },
    "kernelspec": {
      "name": "python3",
      "display_name": "Python 3"
    },
    "language_info": {
      "name": "python"
    }
  },
  "cells": [
    {
      "cell_type": "markdown",
      "metadata": {
        "id": "view-in-github",
        "colab_type": "text"
      },
      "source": [
        "<a href=\"https://colab.research.google.com/github/carolinechen99/cp-1-lab1/blob/main/Practice_Markdown_with_Colab.ipynb\" target=\"_parent\"><img src=\"https://colab.research.google.com/assets/colab-badge.svg\" alt=\"Open In Colab\"/></a>"
      ]
    },
    {
      "cell_type": "markdown",
      "source": [
        "## Practice Markdown"
      ],
      "metadata": {
        "id": "RrzMoP14r5z9"
      }
    },
    {
      "cell_type": "markdown",
      "source": [
        "This notebook lets you experiment with producing repeatable technical documentation.  Use this notebook to do the following actions:\n",
        "\n",
        "* Create a code cell and print a Python Hello World statement:  `print(\"hello world\")`\n",
        "* Create a Markdown Cell and add a Title using `#` and then a statement using plain text.  You can looks at the source code for this cell to get an idea of how to use Markdown.\n",
        "* Take some ideas from the [Master Markdown Github Guide](https://guides.github.com/features/mastering-markdown/) and implement them here.\n",
        "* Finally, download this notebook as a `.ipynb` file and check into a Github Project"
      ],
      "metadata": {
        "id": "iNvbmaIMrhw3"
      }
    },
    {
      "cell_type": "code",
      "source": [
        "def hello():\n",
        "  print(\"hello world\")\n",
        "hello()"
      ],
      "metadata": {
        "colab": {
          "base_uri": "https://localhost:8080/"
        },
        "id": "ZcZ2wX9esD9Z",
        "outputId": "12ec0c6c-bba7-4624-d3ae-79defc9eeb21"
      },
      "execution_count": null,
      "outputs": [
        {
          "output_type": "stream",
          "name": "stdout",
          "text": [
            "hello world\n"
          ]
        }
      ]
    },
    {
      "cell_type": "markdown",
      "source": [
        "## Hello World\n"
      ],
      "metadata": {
        "id": "7Kgom_YFsJyB"
      }
    },
    {
      "cell_type": "markdown",
      "source": [
        "* This is a practice for hello world"
      ],
      "metadata": {
        "id": "X3JzoMNysMSS"
      }
    }
  ]
}